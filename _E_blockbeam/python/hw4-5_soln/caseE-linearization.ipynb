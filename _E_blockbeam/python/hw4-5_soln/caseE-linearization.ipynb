{
 "cells": [
  {
   "cell_type": "markdown",
   "metadata": {},
   "source": [
    " # Linearization: Design Study"
   ]
  },
  {
   "cell_type": "code",
   "execution_count": null,
   "metadata": {},
   "outputs": [],
   "source": [
    "# %%\n",
    "\n",
    "import sympy\n",
    "from sympy import *\n",
    "from sympy.physics.vector.printing import vlatex\n",
    "from IPython.display import Math, display\n",
    "\n",
    "init_printing()\n",
    "\n",
    "def dotprint(expr):\n",
    "    display(Math(vlatex(expr)))"
   ]
  },
  {
   "cell_type": "code",
   "execution_count": null,
   "metadata": {},
   "outputs": [],
   "source": [
    "# %%\n",
    "\n",
    "t = symbols('t')\n",
    "# Generalized coordinates\n",
    "z, theta = symbols(r'z, \\theta', cls=Function)\n",
    "z = z(t)\n",
    "theta = theta(t)\n",
    "\n",
    "z_dot = z.diff(t)\n",
    "theta_dot = theta.diff(t)\n",
    "\n",
    "z_ddot = z.diff(t,2)\n",
    "theta_ddot = theta.diff(t,2)\n",
    "\n",
    "m1, m2, ell, g, F = symbols(r'm_1, m_2, \\ell, g, F', real=True)"
   ]
  },
  {
   "cell_type": "code",
   "execution_count": null,
   "metadata": {},
   "outputs": [
    {
     "data": {
      "text/latex": [
       "$\\displaystyle \\left[\\begin{matrix}\\dot{z}\\\\\\dot{\\theta}\\\\\\frac{- g m_{1} \\sin{\\left(\\theta \\right)} + m_{1} z \\dot{\\theta}^{2}}{m_{1}}\\\\\\frac{F \\ell \\cos{\\left(\\theta \\right)} - \\frac{\\ell g m_{2} \\cos{\\left(\\theta \\right)}}{2} - g m_{1} z \\cos{\\left(\\theta \\right)} - 2 m_{1} z \\dot{\\theta} \\dot{z}}{\\frac{\\ell^{2} m_{2}}{3} + m_{1} z^{2}}\\end{matrix}\\right]$"
      ],
      "text/plain": [
       "<IPython.core.display.Math object>"
      ]
     },
     "metadata": {},
     "output_type": "display_data"
    }
   ],
   "source": [
    "# %%\n",
    "\n",
    "# Equations of motion in state variable form\n",
    "f_of_x_and_u = Matrix([\n",
    "    z_dot,\n",
    "    theta_dot,\n",
    "    1/m1*(-m1*g*sin(theta) + m1*z*theta_dot**2),\n",
    "    1/(m2*ell**2/3 + m1*z**2)*(ell*F*cos(theta) - 2*m1*z*z_dot*theta_dot - m1*g*z*cos(theta) - m2*g*ell/2*cos(theta))\n",
    "])\n",
    "\n",
    "dotprint(f_of_x_and_u)"
   ]
  },
  {
   "cell_type": "markdown",
   "metadata": {},
   "source": [
    " ## Deriving Nonlinear State Space Equations"
   ]
  },
  {
   "cell_type": "code",
   "execution_count": null,
   "metadata": {},
   "outputs": [
    {
     "data": {
      "text/latex": [
       "$\\displaystyle \\left[\\begin{matrix}z\\\\\\theta\\\\\\dot{z}\\\\\\dot{\\theta}\\end{matrix}\\right]$"
      ],
      "text/plain": [
       "<IPython.core.display.Math object>"
      ]
     },
     "metadata": {},
     "output_type": "display_data"
    }
   ],
   "source": [
    "# %%\n",
    "\n",
    "state = Matrix([z, theta, z_dot, theta_dot])\n",
    "dotprint(state)"
   ]
  },
  {
   "cell_type": "code",
   "execution_count": null,
   "metadata": {},
   "outputs": [
    {
     "data": {
      "text/latex": [
       "$\\displaystyle \\left[\\begin{matrix}\\dot{z}\\\\\\dot{\\theta}\\\\\\frac{- g m_{1} \\sin{\\left(\\theta \\right)} + m_{1} z \\dot{\\theta}^{2}}{m_{1}}\\\\\\frac{F \\ell \\cos{\\left(\\theta \\right)} - \\frac{\\ell g m_{2} \\cos{\\left(\\theta \\right)}}{2} - g m_{1} z \\cos{\\left(\\theta \\right)} - 2 m_{1} z \\dot{\\theta} \\dot{z}}{\\frac{\\ell^{2} m_{2}}{3} + m_{1} z^{2}}\\end{matrix}\\right]$"
      ],
      "text/plain": [
       "<IPython.core.display.Math object>"
      ]
     },
     "metadata": {},
     "output_type": "display_data"
    }
   ],
   "source": [
    "# %%\n",
    "\n",
    "state_deriv = f_of_x_and_u\n",
    "dotprint(state_deriv)"
   ]
  },
  {
   "cell_type": "markdown",
   "metadata": {},
   "source": [
    " ## Linearization\n",
    "\n",
    " First, we need to find an equilibrium point. We can do this by setting all derivatives to zero and solving."
   ]
  },
  {
   "cell_type": "code",
   "execution_count": null,
   "metadata": {},
   "outputs": [
    {
     "data": {
      "text/latex": [
       "$\\displaystyle \\left\\{ z : \\frac{\\ell \\left(2 F - g m_{2}\\right)}{2 g m_{1}}\\right\\}$"
      ],
      "text/plain": [
       "<IPython.core.display.Math object>"
      ]
     },
     "metadata": {},
     "output_type": "display_data"
    }
   ],
   "source": [
    "# %%\n",
    "\n",
    "equilibrium_equation = state_deriv.subs({z_dot: 0, theta_dot: 0, theta: 0})\n",
    "\n",
    "eq_solve_dict = solve(equilibrium_equation, (z, F), simplify=True, dict=True)[0]\n",
    "dotprint(eq_solve_dict)\n",
    "\n",
    "# Define symbols\n",
    "m1, m2, ell, g, F, z, ze = symbols('m_1 m_2 ell g F z ze')\n",
    "\n",
    "# Original equation (solution from eq_solve_dict)\n",
    "# z = (ell * (2F - g*m2)) / (2*g*m1)\n",
    "equation = Eq(z, (ell * (2*F - g*m2)) / (2*g*m1))"
   ]
  },
  {
   "cell_type": "code",
   "execution_count": null,
   "metadata": {},
   "outputs": [
    {
     "name": "stdout",
     "output_type": "stream",
     "text": [
      "u_eq = \n"
     ]
    },
    {
     "data": {
      "text/latex": [
       "$\\displaystyle \\frac{g m_{2}}{2} + \\frac{g m_{1} ze}{\\ell}$"
      ],
      "text/plain": [
       "<IPython.core.display.Math object>"
      ]
     },
     "metadata": {},
     "output_type": "display_data"
    }
   ],
   "source": [
    "# %%\n",
    "\n",
    "# Solve for F\n",
    "u_eq = solve(equation, F)[0]\n",
    "print(\"u_eq = \")\n",
    "dotprint(u_eq.subs(z,ze))"
   ]
  },
  {
   "cell_type": "markdown",
   "metadata": {},
   "source": [
    " ---\n",
    " The solution for $u_{eq}$ (or **F**) comes from solving the equation above. The equilibrium point is the value of **F** at which the system's derivatives (velocities and accelerations) are zero, meaning the system is at rest.\n",
    "\n",
    " Here, $z_e$ is the equilibrium position. This expression shows that the equilibrium force depends on both the gravitational forces acting on the masses $m_1$ and $m_2$, as well as the equilibrium position $z_e$ scaled by the length $\\ell$.\n",
    " We can see that at equilibrium, $z$ can be any value (which we'll call $z_e$), and $F$ depends on this $z_e$."
   ]
  },
  {
   "cell_type": "code",
   "execution_count": null,
   "metadata": {},
   "outputs": [],
   "source": [
    "# %%\n",
    "\n",
    "z_e = symbols('z_e')\n",
    "u_eq = m1*g/ell*z_e + m2*g/2\n",
    "theta_eq = 0\n",
    "z_dot_eq = 0\n",
    "theta_dot_eq = 0"
   ]
  },
  {
   "cell_type": "markdown",
   "metadata": {},
   "source": [
    " #### Define A, B Jacobians\n",
    "\n",
    " We can use Sympy's `jacobian` function to find the jacobians of `f(x,u)`.\n",
    "\n",
    " First we find $A = \\frac{\\partial f}{\\partial x}$:"
   ]
  },
  {
   "cell_type": "code",
   "execution_count": null,
   "metadata": {},
   "outputs": [
    {
     "data": {
      "text/latex": [
       "$\\displaystyle \\left[\\begin{matrix}0 & 0 & 1 & 0\\\\0 & 0 & 0 & 1\\\\\\dot{\\theta}^{2} & - g \\cos{\\left(\\theta \\right)} & 0 & 2 z \\dot{\\theta}\\\\- \\frac{2 m_{1} \\left(F \\ell \\cos{\\left(\\theta \\right)} - \\frac{\\ell g m_{2} \\cos{\\left(\\theta \\right)}}{2} - g m_{1} z \\cos{\\left(\\theta \\right)} - 2 m_{1} z \\dot{\\theta} \\dot{z}\\right) z}{\\left(\\frac{\\ell^{2} m_{2}}{3} + m_{1} z^{2}\\right)^{2}} + \\frac{- g m_{1} \\cos{\\left(\\theta \\right)} - 2 m_{1} \\dot{\\theta} \\dot{z}}{\\frac{\\ell^{2} m_{2}}{3} + m_{1} z^{2}} & \\frac{- F \\ell \\sin{\\left(\\theta \\right)} + \\frac{\\ell g m_{2} \\sin{\\left(\\theta \\right)}}{2} + g m_{1} z \\sin{\\left(\\theta \\right)}}{\\frac{\\ell^{2} m_{2}}{3} + m_{1} z^{2}} & - \\frac{2 m_{1} z \\dot{\\theta}}{\\frac{\\ell^{2} m_{2}}{3} + m_{1} z^{2}} & - \\frac{2 m_{1} z \\dot{z}}{\\frac{\\ell^{2} m_{2}}{3} + m_{1} z^{2}}\\end{matrix}\\right]$"
      ],
      "text/plain": [
       "<IPython.core.display.Math object>"
      ]
     },
     "metadata": {},
     "output_type": "display_data"
    }
   ],
   "source": [
    "# %%\n",
    "\n",
    "A = f_of_x_and_u.jacobian(state)\n",
    "dotprint(A)"
   ]
  },
  {
   "cell_type": "code",
   "execution_count": null,
   "metadata": {},
   "outputs": [
    {
     "data": {
      "text/latex": [
       "$\\displaystyle \\left[\\begin{matrix}0 & 0 & 1 & 0\\\\0 & 0 & 0 & 1\\\\0 & - g & 0 & 0\\\\- \\frac{g m_{1}}{\\frac{\\ell^{2} m_{2}}{3} + m_{1} z^{2}} - \\frac{2 m_{1} \\left(F \\ell - \\frac{\\ell g m_{2}}{2} - g m_{1} z\\right) z}{\\left(\\frac{\\ell^{2} m_{2}}{3} + m_{1} z^{2}\\right)^{2}} & 0 & 0 & 0\\end{matrix}\\right]$"
      ],
      "text/plain": [
       "<IPython.core.display.Math object>"
      ]
     },
     "metadata": {},
     "output_type": "display_data"
    }
   ],
   "source": [
    "# %%\n",
    "\n",
    "A_subs = {\n",
    "    z: z_e,\n",
    "    theta: theta_eq,\n",
    "    z_dot: z_dot_eq,\n",
    "    theta_dot: theta_dot_eq,\n",
    "    F: u_eq\n",
    "}\n",
    "\n",
    "A_eq = A.subs(A_subs)\n",
    "dotprint(A_eq)"
   ]
  },
  {
   "cell_type": "markdown",
   "metadata": {},
   "source": [
    " Now we do a similar process to find $B = \\frac{\\partial f}{\\partial u}$"
   ]
  },
  {
   "cell_type": "code",
   "execution_count": null,
   "metadata": {},
   "outputs": [
    {
     "data": {
      "text/latex": [
       "$\\displaystyle \\left[\\begin{matrix}0\\\\0\\\\0\\\\0\\end{matrix}\\right]$"
      ],
      "text/plain": [
       "<IPython.core.display.Math object>"
      ]
     },
     "metadata": {},
     "output_type": "display_data"
    }
   ],
   "source": [
    "# %%\n",
    "\n",
    "B = f_of_x_and_u.jacobian(Matrix([F]))\n",
    "dotprint(B)"
   ]
  },
  {
   "cell_type": "code",
   "execution_count": null,
   "metadata": {},
   "outputs": [
    {
     "data": {
      "text/latex": [
       "$\\displaystyle \\left[\\begin{matrix}0\\\\0\\\\0\\\\0\\end{matrix}\\right]$"
      ],
      "text/plain": [
       "<IPython.core.display.Math object>"
      ]
     },
     "metadata": {},
     "output_type": "display_data"
    }
   ],
   "source": [
    "# %%\n",
    "\n",
    "B_subs = {\n",
    "    z: z_e,\n",
    "    theta: theta_eq,\n",
    "    z_dot: z_dot_eq,\n",
    "    theta_dot: theta_dot_eq,\n",
    "    F: u_eq\n",
    "}\n",
    "\n",
    "B_eq = B.subs(B_subs)\n",
    "dotprint(B_eq)"
   ]
  },
  {
   "cell_type": "markdown",
   "metadata": {},
   "source": [
    "\n",
    " ### Transfer Function\n",
    "\n",
    " We can also transform this to a transfer function if we define C and D matrices"
   ]
  },
  {
   "cell_type": "code",
   "execution_count": null,
   "metadata": {},
   "outputs": [
    {
     "data": {
      "text/latex": [
       "$\\displaystyle \\left[\\begin{matrix}0\\\\0\\end{matrix}\\right]$"
      ],
      "text/plain": [
       "<IPython.core.display.Math object>"
      ]
     },
     "metadata": {},
     "output_type": "display_data"
    }
   ],
   "source": [
    "# %%\n",
    "\n",
    "C = Matrix([[0, 1, 0, 0], [0, 0, 0, 1.0]])\n",
    "D = Matrix([[0], [0]])\n",
    "\n",
    "s = symbols('s')\n",
    "transfer_func = simplify(C * (s*eye(4) - A_eq).inv() * B_eq + D)\n",
    "dotprint(transfer_func)"
   ]
  },
  {
   "cell_type": "markdown",
   "metadata": {},
   "source": [
    " ### Simplifying Assumption\n",
    "\n",
    " Now setting the $m_1g$ term equal to zero as described in the problem:"
   ]
  },
  {
   "cell_type": "code",
   "execution_count": null,
   "metadata": {},
   "outputs": [
    {
     "data": {
      "text/latex": [
       "$\\displaystyle \\left[\\begin{matrix}0\\\\0\\end{matrix}\\right]$"
      ],
      "text/plain": [
       "<IPython.core.display.Math object>"
      ]
     },
     "metadata": {},
     "output_type": "display_data"
    }
   ],
   "source": [
    "# %%\n",
    "\n",
    "A_simplified = A_eq.subs(m1*g, 0)\n",
    "B_simplified = B_eq.subs(m1*g, 0)\n",
    "\n",
    "transfer_func_simplified = simplify(C * (s*eye(4) - A_simplified).inv() * B_simplified + D)\n",
    "dotprint(transfer_func_simplified)"
   ]
  }
 ],
 "metadata": {
  "kernelspec": {
   "display_name": "Python 3 (ipykernel)",
   "language": "python",
   "name": "python3"
  },
  "language_info": {
   "codemirror_mode": {
    "name": "ipython",
    "version": 3
   },
   "file_extension": ".py",
   "mimetype": "text/x-python",
   "name": "python",
   "nbconvert_exporter": "python",
   "pygments_lexer": "ipython3",
   "version": "3.11.9"
  }
 },
 "nbformat": 4,
 "nbformat_minor": 4
}
