{
 "cells": [
  {
   "cell_type": "code",
   "execution_count": null,
   "id": "99e61da3-b729-4695-b0b1-a2bb8b714560",
   "metadata": {},
   "outputs": [
    {
     "data": {
      "text/latex": [
       "$\\displaystyle \\left[\\begin{matrix}- 0.5 \\ell m_{1} \\sin{\\left(\\theta \\right)} \\dot{\\theta}^{2} + 0.5 \\ell m_{1} \\cos{\\left(\\theta \\right)} \\ddot{\\theta} + 1.0 m_{1} \\ddot{z} + 1.0 m_{2} \\ddot{z}\\\\\\ell m_{1} \\left(0.333333333333333 \\ell \\ddot{\\theta} - 0.5 g \\sin{\\left(\\theta \\right)} + 0.5 \\cos{\\left(\\theta \\right)} \\ddot{z}\\right)\\end{matrix}\\right]$"
      ],
      "text/plain": [
       "<IPython.core.display.Math object>"
      ]
     },
     "metadata": {},
     "output_type": "display_data"
    },
    {
     "data": {
      "text/latex": [
       "$\\displaystyle - \\frac{4.0 F}{3.0 m_{1} \\cos^{2}{\\left(\\theta \\right)} - 4.0 m_{1} - 4.0 m_{2}} + \\frac{4.0 b \\dot{z}}{3.0 m_{1} \\cos^{2}{\\left(\\theta \\right)} - 4.0 m_{1} - 4.0 m_{2}} - \\frac{2.0 \\ell m_{1} \\sin{\\left(\\theta \\right)} \\dot{\\theta}^{2}}{3.0 m_{1} \\cos^{2}{\\left(\\theta \\right)} - 4.0 m_{1} - 4.0 m_{2}} + \\frac{3.0 g m_{1} \\sin{\\left(\\theta \\right)} \\cos{\\left(\\theta \\right)}}{3.0 m_{1} \\cos^{2}{\\left(\\theta \\right)} - 4.0 m_{1} - 4.0 m_{2}}$"
      ],
      "text/plain": [
       "<IPython.core.display.Math object>"
      ]
     },
     "metadata": {},
     "output_type": "display_data"
    },
    {
     "data": {
      "text/latex": [
       "$\\displaystyle \\frac{6.0 F \\cos{\\left(\\theta \\right)}}{3.0 \\ell m_{1} \\cos^{2}{\\left(\\theta \\right)} - 4.0 \\ell m_{1} - 4.0 \\ell m_{2}} - \\frac{6.0 b \\cos{\\left(\\theta \\right)} \\dot{z}}{3.0 \\ell m_{1} \\cos^{2}{\\left(\\theta \\right)} - 4.0 \\ell m_{1} - 4.0 \\ell m_{2}} + \\frac{3.0 \\ell m_{1} \\sin{\\left(\\theta \\right)} \\cos{\\left(\\theta \\right)} \\dot{\\theta}^{2}}{3.0 \\ell m_{1} \\cos^{2}{\\left(\\theta \\right)} - 4.0 \\ell m_{1} - 4.0 \\ell m_{2}} - \\frac{6.0 g m_{1} \\sin{\\left(\\theta \\right)}}{3.0 \\ell m_{1} \\cos^{2}{\\left(\\theta \\right)} - 4.0 \\ell m_{1} - 4.0 \\ell m_{2}} - \\frac{6.0 g m_{2} \\sin{\\left(\\theta \\right)}}{3.0 \\ell m_{1} \\cos^{2}{\\left(\\theta \\right)} - 4.0 \\ell m_{1} - 4.0 \\ell m_{2}}$"
      ],
      "text/plain": [
       "<IPython.core.display.Math object>"
      ]
     },
     "metadata": {},
     "output_type": "display_data"
    },
    {
     "data": {
      "text/latex": [
       "$\\displaystyle \\left[\\begin{matrix}- \\frac{4}{3 m_{1} \\cos^{2}{\\left(\\theta \\right)} - 4 m_{1} - 4 m_{2}} & \\frac{6 \\cos{\\left(\\theta \\right)}}{3 \\ell m_{1} \\cos^{2}{\\left(\\theta \\right)} - 4 \\ell m_{1} - 4 \\ell m_{2}}\\\\\\frac{6 \\cos{\\left(\\theta \\right)}}{3 \\ell m_{1} \\cos^{2}{\\left(\\theta \\right)} - 4 \\ell m_{1} - 4 \\ell m_{2}} & \\frac{- 12 m_{1} - 12 m_{2}}{3 \\ell^{2} m_{1}^{2} \\cos^{2}{\\left(\\theta \\right)} - 4 \\ell^{2} m_{1}^{2} - 4 \\ell^{2} m_{1} m_{2}}\\end{matrix}\\right]$"
      ],
      "text/plain": [
       "<IPython.core.display.Math object>"
      ]
     },
     "metadata": {},
     "output_type": "display_data"
    },
    {
     "name": "stdout",
     "output_type": "stream",
     "text": [
      "x_dot =  [np.float64(0.9411764705882353), 0, np.float64(-1.411764705882353), 0]\n"
     ]
    }
   ],
   "source": [
    "#%%\n",
    "\n",
    "from hw03_pendulum_solving_for_state_variable_form import *"
   ]
  }
 ],
 "metadata": {
  "language_info": {
   "codemirror_mode": {
    "name": "ipython",
    "version": 3
   },
   "file_extension": ".py",
   "mimetype": "text/x-python",
   "name": "python",
   "nbconvert_exporter": "python",
   "pygments_lexer": "ipython3",
   "version": 3
  }
 },
 "nbformat": 4,
 "nbformat_minor": 2
}
