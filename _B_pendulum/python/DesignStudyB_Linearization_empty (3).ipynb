{
 "cells": [
  {
   "cell_type": "markdown",
   "metadata": {},
   "source": [
    "# Linearization: Design Study B"
   ]
  },
  {
   "cell_type": "code",
   "execution_count": 1,
   "metadata": {},
   "outputs": [],
   "source": [
    "import sympy\n",
    "from sympy import *\n",
    "from sympy.physics.vector.printing import vlatex\n",
    "from IPython.display import Math, display\n",
    "\n",
    "init_printing()\n",
    "\n",
    "def dotprint(expr):\n",
    "    display(Math(vlatex(expr)))"
   ]
  },
  {
   "cell_type": "code",
   "execution_count": 4,
   "metadata": {},
   "outputs": [],
   "source": [
    "t = symbols('t')\n",
    "# Generalized coordinates\n",
    "z, theta = symbols(r'z, \\theta', cls=Function)\n",
    "z = z(t)\n",
    "theta = theta(t)\n",
    "\n",
    "z_dot = z.diff(t)\n",
    "theta_dot = theta.diff(t)\n",
    "\n",
    "z_ddot = z.diff(t,2)\n",
    "theta_ddot = theta.diff(t,2)\n",
    "\n",
    "m1, m2, ell, P_0, F, b, g  = symbols(r'm_1, m_2, \\ell, P_0, F, b, g', real=True)"
   ]
  },
  {
   "cell_type": "code",
   "execution_count": null,
   "metadata": {},
   "outputs": [],
   "source": [
    "LHS = Matrix([\n",
    "    (m1 + m2)*z_ddot + Rational(1,2)*m1*ell*theta_ddot*cos(theta),\n",
    "    Rational(1,2)*m1*ell*z_ddot*cos(theta) + Rational(1,3)*m1*ell**2*theta_ddot,\n",
    "])\n",
    "RHS = Matrix([\n",
    "    Rational(1,2)*m1*ell*theta_dot**2*sin(theta) - b*z_dot + F,\n",
    "    Rational(1,2)*m1*g*ell*sin(theta)\n",
    "])\n",
    "\n",
    "dynamics = Eq(LHS, RHS)\n",
    "dotprint(dynamics)"
   ]
  },
  {
   "cell_type": "markdown",
   "metadata": {},
   "source": [
    "## Deriving Nonlinear State Space Equations\n",
    "\n",
    "Solve for our highest derivatives, $\\ddot{z}, \\ddot{\\theta}$:"
   ]
  },
  {
   "cell_type": "code",
   "execution_count": null,
   "metadata": {},
   "outputs": [],
   "source": [
    "# TODO: Change this!"
   ]
  },
  {
   "cell_type": "markdown",
   "metadata": {},
   "source": [
    "Create our state vector $x = [x_1, x_2, x_3, x_4]$:"
   ]
  },
  {
   "cell_type": "code",
   "execution_count": null,
   "metadata": {},
   "outputs": [],
   "source": [
    "# TODO: Change this!\n",
    "state = MatrixSymbol('x', ...)\n",
    "dotprint(state)"
   ]
  },
  {
   "cell_type": "markdown",
   "metadata": {},
   "source": [
    "We have $x = [x_1, x_2,x_3,x_4] = [z, \\theta, \\dot{z}, \\dot{\\theta}]$, so $\\dot{x} = [\\dot{z}, \\dot{\\theta}, \\ddot{z}, \\ddot{\\theta}]$. Let's put that in a vector:"
   ]
  },
  {
   "cell_type": "code",
   "execution_count": null,
   "metadata": {},
   "outputs": [],
   "source": [
    "# TODO: Change this!\n",
    "state_deriv = Matrix([...])\n",
    "dotprint(state_deriv)"
   ]
  },
  {
   "cell_type": "markdown",
   "metadata": {},
   "source": [
    "Now we can substitute in our $x_1, x_2$ values in!"
   ]
  },
  {
   "cell_type": "code",
   "execution_count": null,
   "metadata": {},
   "outputs": [],
   "source": [
    "# Dictionary for substitutions\n",
    "subs_dict = {\n",
    "    ...\n",
    "}\n",
    "\n",
    "f_expr = state_deriv.subs(subs_dict)\n",
    "dotprint(f_expr)"
   ]
  },
  {
   "cell_type": "markdown",
   "metadata": {},
   "source": [
    "We now have our nonlinear state space equations!\n",
    "\n",
    "## Linearization\n",
    "\n",
    "First, we need to find an equilibrium point. We can either do this by hand or use Sympy's `solve` function to do this.\n",
    "\n",
    "**Note:** It's a good idea to practice doing this by hand in addition to using Sympy!"
   ]
  },
  {
   "cell_type": "code",
   "execution_count": null,
   "metadata": {},
   "outputs": [],
   "source": [
    "# TODO: Change this!\n",
    "# This equation represents f(x,u) = 0\n",
    "equilibrium_equation = ...\n",
    "\n",
    "eq_solve_dict = solve(..., (...), simplify=True, dict=True)[0]\n",
    "dotprint(eq_solve_dict)"
   ]
  },
  {
   "cell_type": "markdown",
   "metadata": {},
   "source": [
    "As a sanity check, let's inspect this solution. We know that $x_2, x_3$ have to be zero from the form of $f(x,u)$ above. Let's substitute those values into `f_expr` and see what we get:"
   ]
  },
  {
   "cell_type": "code",
   "execution_count": null,
   "metadata": {},
   "outputs": [],
   "source": [
    "dotprint(f_expr.subs(...))"
   ]
  },
  {
   "cell_type": "markdown",
   "metadata": {},
   "source": [
    "We can see that setting $F = 0$ and $x_1 = 0$ causes all numerator terms to go to zero. However, there is another equilibrium solution for $x_1$ that Sympy may not have found. Can you figure out what it is?\n",
    "\n",
    "(Hint: At what points does $\\sin(x_1) = 0$?)\n",
    "\n",
    "---\n",
    "\n",
    "Below we define our equilibrium points $x_e = [-, \\theta_e, \\dot{z}_e, \\dot{\\theta}_e]$ and $u_e = F_e$. \n",
    "\n",
    "_Think for a minute: Why don't we have a $z_e$ equilibrium point?_"
   ]
  },
  {
   "cell_type": "code",
   "execution_count": 12,
   "metadata": {},
   "outputs": [],
   "source": [
    "u_eq = ...\n",
    "theta_eq = ...\n",
    "z_dot_eq = ...\n",
    "theta_dot_eq = ..."
   ]
  },
  {
   "cell_type": "markdown",
   "metadata": {},
   "source": [
    "#### Define A, B Jacobians\n",
    "\n",
    "We can use Sympy's `jacobian` function to find the jacobians of `f(x,u)`.\n",
    "\n",
    "First we find $A = \\frac{\\partial f}{\\partial x}$:"
   ]
  },
  {
   "cell_type": "code",
   "execution_count": null,
   "metadata": {},
   "outputs": [],
   "source": [
    "A = ...\n",
    "dotprint(A)"
   ]
  },
  {
   "cell_type": "markdown",
   "metadata": {},
   "source": [
    "We can evaluate at our specific $(x_e, u_e)$ point using `subs`."
   ]
  },
  {
   "cell_type": "code",
   "execution_count": null,
   "metadata": {},
   "outputs": [],
   "source": [
    "A_subs = {\n",
    "    ...\n",
    "}\n",
    "\n",
    "A_eq = A.subs(A_subs)\n",
    "dotprint(A_eq)"
   ]
  },
  {
   "cell_type": "markdown",
   "metadata": {},
   "source": [
    "Now we do a similar process to find $B = \\frac{\\partial f}{\\partial u}$"
   ]
  },
  {
   "cell_type": "code",
   "execution_count": null,
   "metadata": {},
   "outputs": [],
   "source": [
    "B = ...\n",
    "dotprint(B)"
   ]
  },
  {
   "cell_type": "markdown",
   "metadata": {},
   "source": [
    "Like for the $A$ matrix, we need to substitute in our equilibrium values."
   ]
  },
  {
   "cell_type": "code",
   "execution_count": null,
   "metadata": {},
   "outputs": [],
   "source": [
    "B_subs = {\n",
    "    ...\n",
    "}\n",
    "\n",
    "B_eq = B.subs(B_subs)\n",
    "dotprint(B_eq)"
   ]
  },
  {
   "cell_type": "markdown",
   "metadata": {},
   "source": [
    "### Final Equations\n",
    "\n",
    "To obtain our final equations of motion, we define new variables measuring our offset from the equilibrium:\n",
    "\n",
    "$$\n",
    "\\begin{align*}\n",
    "\\tilde{x} &= x - x_e \\\\\n",
    "\\tilde{u} &= u - u_e\n",
    "\\end{align*}\n",
    "$$\n",
    "\n",
    "Our final equations of motion are:\n",
    "\n",
    "$$\n",
    "\\dot{\\tilde{x}} = A\\tilde{x} - B\\tilde{u}\n",
    "$$"
   ]
  }
 ],
 "metadata": {
  "kernelspec": {
   "display_name": "controls",
   "language": "python",
   "name": "python3"
  },
  "language_info": {
   "codemirror_mode": {
    "name": "ipython",
    "version": 3
   },
   "file_extension": ".py",
   "mimetype": "text/x-python",
   "name": "python",
   "nbconvert_exporter": "python",
   "pygments_lexer": "ipython3",
   "version": "3.12.5"
  }
 },
 "nbformat": 4,
 "nbformat_minor": 2
}
