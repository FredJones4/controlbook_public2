{
 "cells": [
  {
   "cell_type": "markdown",
   "metadata": {},
   "source": [
    "# Transfer Function: Design Study A"
   ]
  },
  {
   "cell_type": "code",
   "execution_count": 2,
   "metadata": {},
   "outputs": [],
   "source": [
    "import sympy\n",
    "from sympy import *\n",
    "from sympy.physics.vector.printing import vlatex\n",
    "from IPython.display import Math, display\n",
    "\n",
    "init_printing()\n",
    "\n",
    "def dotprint(expr):\n",
    "    display(Math(vlatex(expr)))"
   ]
  },
  {
   "cell_type": "code",
   "execution_count": 7,
   "metadata": {},
   "outputs": [],
   "source": [
    "t = symbols('t', real=True)\n",
    "theta = symbols(r'\\theta', cls=Function)\n",
    "theta = theta(t)\n",
    "theta\n",
    "\n",
    "theta_dot = theta.diff(t)\n",
    "theta_ddot = theta.diff(t,2)\n",
    "\n",
    "ell, m, g, P_0, tau, b = symbols(r'\\ell, m, g, P_0, \\tau, b', real=True)\n",
    "\n",
    "state = MatrixSymbol('x',2,1)"
   ]
  },
  {
   "cell_type": "code",
   "execution_count": null,
   "metadata": {},
   "outputs": [],
   "source": [
    "LHS = Rational(1,3)*m*ell**2*theta_ddot + Rational(1,2)*m*g*ell*cos(theta)\n",
    "RHS = tau - b*theta_dot\n",
    "\n",
    "dynamics = Eq(LHS, RHS)\n",
    "dotprint(dynamics)"
   ]
  },
  {
   "cell_type": "code",
   "execution_count": null,
   "metadata": {},
   "outputs": [],
   "source": [
    "A = Matrix([\n",
    "    [0, 1],\n",
    "    [Rational(3,2)*g*sin(state[0])/ell, -3*b/(ell**2*m)]\n",
    "])\n",
    "A"
   ]
  },
  {
   "cell_type": "code",
   "execution_count": null,
   "metadata": {},
   "outputs": [],
   "source": [
    "B = Matrix([\n",
    "    [0],\n",
    "    [3/(ell**2*m)]\n",
    "])\n",
    "B"
   ]
  },
  {
   "cell_type": "markdown",
   "metadata": {},
   "source": [
    "For Design Study A, our output is typically $x_0 = \\theta$. This means that \n",
    "\n",
    "$$\n",
    "y = h(x,u) = [1,0] x = Cx\n",
    "$$\n",
    "\n",
    "where $C = [0,1]$.\n",
    "\n",
    "(Our typical linear output equation is $y = Cx+Du$, but here we have $D=0$.)"
   ]
  },
  {
   "cell_type": "code",
   "execution_count": 11,
   "metadata": {},
   "outputs": [],
   "source": [
    "C = Matrix([[0,1]])\n",
    "D = Matrix([[0]])"
   ]
  },
  {
   "cell_type": "markdown",
   "metadata": {},
   "source": [
    "## Deriving Transfer Function from State Space Equations\n",
    "\n",
    "First, we create a variable corresponding to $s$ in the Laplace domain."
   ]
  },
  {
   "cell_type": "code",
   "execution_count": 30,
   "metadata": {},
   "outputs": [],
   "source": [
    "i = symbols('i')\n",
    "s = symbols('s')"
   ]
  },
  {
   "cell_type": "markdown",
   "metadata": {},
   "source": [
    "Next, we use the following equation to derive a transfer function representation from our state space equations:\n",
    "\n",
    "$$\n",
    "H(s) = C(sI-A)^{-1}B+D\n",
    "$$\n",
    "\n",
    "The polynomial $H(s)$ is the transfer function in the frequency domain."
   ]
  },
  {
   "cell_type": "code",
   "execution_count": null,
   "metadata": {},
   "outputs": [],
   "source": [
    "I = eye(2)\n",
    "\n",
    "H = (C @ (s*I - A).inv() @ B)[0]\n",
    "H"
   ]
  }
 ],
 "metadata": {
  "kernelspec": {
   "display_name": "controls",
   "language": "python",
   "name": "python3"
  },
  "language_info": {
   "codemirror_mode": {
    "name": "ipython",
    "version": 3
   },
   "file_extension": ".py",
   "mimetype": "text/x-python",
   "name": "python",
   "nbconvert_exporter": "python",
   "pygments_lexer": "ipython3",
   "version": "3.12.5"
  }
 },
 "nbformat": 4,
 "nbformat_minor": 2
}
