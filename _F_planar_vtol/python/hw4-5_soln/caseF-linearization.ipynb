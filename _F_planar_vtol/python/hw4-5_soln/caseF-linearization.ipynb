{
 "cells": [
  {
   "cell_type": "markdown",
   "metadata": {},
   "source": [
    "# %% [markdown]\n",
    "\n",
    " # Linearization: Crane System Study"
   ]
  },
  {
   "cell_type": "code",
   "execution_count": null,
   "metadata": {},
   "outputs": [],
   "source": [
    "# %%\n",
    "\n",
    "import sympy\n",
    "from sympy import *\n",
    "from sympy.physics.vector.printing import vlatex\n",
    "from IPython.display import Math, display\n",
    "\n",
    "init_printing()\n",
    "\n",
    "def dotprint(expr):\n",
    "    display(Math(vlatex(expr)))"
   ]
  },
  {
   "cell_type": "code",
   "execution_count": null,
   "metadata": {},
   "outputs": [],
   "source": [
    "# %%\n",
    "\n",
    "t = symbols('t')\n",
    "# Generalized coordinates\n",
    "z, h, theta = symbols(r'z, h, \\theta', cls=Function)\n",
    "z = z(t)\n",
    "h = h(t)\n",
    "theta = theta(t)\n",
    "\n",
    "z_dot = z.diff(t)\n",
    "h_dot = h.diff(t)\n",
    "theta_dot = theta.diff(t)\n",
    "\n",
    "z_ddot = z.diff(t,2)\n",
    "h_ddot = h.diff(t,2)\n",
    "theta_ddot = theta.diff(t,2)\n",
    "\n",
    "mc, mr, Jc, d, mu, g, F, tau = symbols(r'm_c, m_r, J_c, d, \\mu, g, F, \\tau', real=True)"
   ]
  },
  {
   "cell_type": "code",
   "execution_count": null,
   "metadata": {},
   "outputs": [
    {
     "data": {
      "text/latex": [
       "$\\displaystyle \\left[\\begin{matrix}\\ddot{z}\\\\\\ddot{h}\\\\\\ddot{\\theta}\\end{matrix}\\right] = \\left[\\begin{matrix}\\frac{- F \\sin{\\left(\\theta \\right)} - \\mu \\dot{z}}{m_{c} + 2 m_{r}}\\\\\\frac{F \\cos{\\left(\\theta \\right)} + g \\left(- m_{c} - 2 m_{r}\\right)}{m_{c} + 2 m_{r}}\\\\\\frac{\\tau}{J_{c} + 2 d^{2} m_{r}}\\end{matrix}\\right]$"
      ],
      "text/plain": [
       "<IPython.core.display.Math object>"
      ]
     },
     "metadata": {},
     "output_type": "display_data"
    }
   ],
   "source": [
    "# %%\n",
    "\n",
    "M = Matrix([[mc+2*mr, 0, 0],\n",
    "            [0, mc+2*mr, 0],\n",
    "            [0, 0, Jc+2*mr*d**2]])\n",
    "\n",
    "RHS = Matrix([[-F*sin(theta)-mu*z_dot],\n",
    "              [-(mc+2*mr)*g+F*cos(theta)],\n",
    "              [tau]])\n",
    "\n",
    "EOM_dd = M.inv()*RHS\n",
    "dynamics = Eq(Matrix([z_ddot, h_ddot, theta_ddot]), EOM_dd)\n",
    "dotprint(dynamics)"
   ]
  },
  {
   "cell_type": "markdown",
   "metadata": {},
   "source": [
    "# %% [markdown]\n",
    "\n",
    " ## Deriving Nonlinear State Space Equations\n",
    "\n",
    " Solve for our highest derivatives, $\\ddot{z}, \\ddot{h}, \\ddot{\\theta}$:"
   ]
  },
  {
   "cell_type": "code",
   "execution_count": null,
   "metadata": {},
   "outputs": [
    {
     "data": {
      "text/latex": [
       "$\\displaystyle \\left\\{ \\ddot{\\theta} : \\frac{\\tau}{J_{c} + 2 d^{2} m_{r}}, \\  \\ddot{h} : \\frac{F \\cos{\\left(\\theta \\right)} - g m_{c} - 2 g m_{r}}{m_{c} + 2 m_{r}}, \\  \\ddot{z} : - \\frac{F \\sin{\\left(\\theta \\right)} + \\mu \\dot{z}}{m_{c} + 2 m_{r}}\\right\\}$"
      ],
      "text/plain": [
       "<IPython.core.display.Math object>"
      ]
     },
     "metadata": {},
     "output_type": "display_data"
    }
   ],
   "source": [
    "# %%\n",
    "\n",
    "solve_dict = solve(dynamics, (z_ddot, h_ddot, theta_ddot), simplify=True, dict=True)[0]\n",
    "dotprint(solve_dict)"
   ]
  },
  {
   "cell_type": "markdown",
   "metadata": {},
   "source": [
    "# %% [markdown]\n",
    "\n",
    " Create our state vector $x = [x_1, x_2, x_3, x_4, x_5, x_6]$:"
   ]
  },
  {
   "cell_type": "code",
   "execution_count": null,
   "metadata": {},
   "outputs": [
    {
     "data": {
      "text/latex": [
       "$\\displaystyle x$"
      ],
      "text/plain": [
       "<IPython.core.display.Math object>"
      ]
     },
     "metadata": {},
     "output_type": "display_data"
    }
   ],
   "source": [
    "# %%\n",
    "\n",
    "state = MatrixSymbol('x', 6, 1)\n",
    "dotprint(state)"
   ]
  },
  {
   "cell_type": "markdown",
   "metadata": {},
   "source": [
    "# %% [markdown]\n",
    "\n",
    " We have $x = [x_1, x_2, x_3, x_4, x_5, x_6] = [z, h, \\theta, \\dot{z}, \\dot{h}, \\dot{\\theta}]$, so $\\dot{x} = [\\dot{z}, \\dot{h}, \\dot{\\theta}, \\ddot{z}, \\ddot{h}, \\ddot{\\theta}]$. Let's put that in a vector:"
   ]
  },
  {
   "cell_type": "code",
   "execution_count": null,
   "metadata": {},
   "outputs": [
    {
     "data": {
      "text/latex": [
       "$\\displaystyle \\left[\\begin{matrix}\\dot{z}\\\\\\dot{h}\\\\\\dot{\\theta}\\\\- \\frac{F \\sin{\\left(\\theta \\right)} + \\mu \\dot{z}}{m_{c} + 2 m_{r}}\\\\\\frac{F \\cos{\\left(\\theta \\right)} - g m_{c} - 2 g m_{r}}{m_{c} + 2 m_{r}}\\\\\\frac{\\tau}{J_{c} + 2 d^{2} m_{r}}\\end{matrix}\\right]$"
      ],
      "text/plain": [
       "<IPython.core.display.Math object>"
      ]
     },
     "metadata": {},
     "output_type": "display_data"
    }
   ],
   "source": [
    "# %%\n",
    "\n",
    "state_deriv = Matrix([\n",
    "    z_dot,\n",
    "    h_dot,\n",
    "    theta_dot,\n",
    "    solve_dict[z_ddot],\n",
    "    solve_dict[h_ddot],\n",
    "    solve_dict[theta_ddot]\n",
    "])\n",
    "dotprint(state_deriv)"
   ]
  },
  {
   "cell_type": "markdown",
   "metadata": {},
   "source": [
    "# %% [markdown]\n",
    "\n",
    " Now we can substitute in our $x_1, x_2, x_3, x_4, x_5, x_6$ values:"
   ]
  },
  {
   "cell_type": "code",
   "execution_count": null,
   "metadata": {},
   "outputs": [
    {
     "data": {
      "text/latex": [
       "$\\displaystyle \\left[\\begin{matrix}{x}_{3,0}\\\\{x}_{4,0}\\\\{x}_{5,0}\\\\- \\frac{F \\sin{\\left({x}_{2,0} \\right)} + \\mu {x}_{3,0}}{m_{c} + 2 m_{r}}\\\\\\frac{F \\cos{\\left({x}_{2,0} \\right)} - g m_{c} - 2 g m_{r}}{m_{c} + 2 m_{r}}\\\\\\frac{\\tau}{J_{c} + 2 d^{2} m_{r}}\\end{matrix}\\right]$"
      ],
      "text/plain": [
       "<IPython.core.display.Math object>"
      ]
     },
     "metadata": {},
     "output_type": "display_data"
    }
   ],
   "source": [
    "# %%\n",
    "\n",
    "# Dictionary for substitutions\n",
    "subs_dict = {\n",
    "    z: state[0],\n",
    "    h: state[1],\n",
    "    theta: state[2],\n",
    "    z_dot: state[3],\n",
    "    h_dot: state[4],\n",
    "    theta_dot: state[5]\n",
    "}\n",
    "\n",
    "f_expr = state_deriv.subs(subs_dict)\n",
    "dotprint(f_expr)"
   ]
  },
  {
   "cell_type": "markdown",
   "metadata": {},
   "source": [
    "# %% [markdown]\n",
    "\n",
    " We now have our nonlinear state space equations!\n",
    "\n",
    " ## Linearization\n",
    "\n",
    " First, we need to find an equilibrium point. We can either do this by hand or use Sympy's `solve` function to do this.\n",
    "\n",
    " **Note:** It's a good idea to practice doing this by hand in addition to using Sympy!"
   ]
  },
  {
   "cell_type": "code",
   "execution_count": null,
   "metadata": {},
   "outputs": [
    {
     "data": {
      "text/latex": [
       "$\\displaystyle \\left\\{ F : - g \\left(m_{c} + 2 m_{r}\\right), \\  \\tau : 0, \\  {x}_{2,0} : \\pi, \\  {x}_{3,0} : 0, \\  {x}_{4,0} : 0, \\  {x}_{5,0} : 0\\right\\}$"
      ],
      "text/plain": [
       "<IPython.core.display.Math object>"
      ]
     },
     "metadata": {},
     "output_type": "display_data"
    }
   ],
   "source": [
    "# %%\n",
    "\n",
    "# This equation represents f(x,u) = 0\n",
    "equilibrium_equation = Eq(f_expr, Matrix([0, 0, 0, 0, 0, 0]))\n",
    "\n",
    "eq_solve_dict = solve(equilibrium_equation, (state[0], state[1], state[2], state[3], state[4], state[5], F, tau), simplify=True, dict=True)[0]\n",
    "dotprint(eq_solve_dict)"
   ]
  },
  {
   "cell_type": "markdown",
   "metadata": {},
   "source": [
    "# %% [markdown]\n",
    "\n",
    " We can see that at equilibrium:\n",
    " 1. $z$ and $h$ can be any value\n",
    " 2. $\\theta = 0$ or $\\pi$ (we'll use 0)\n",
    " 3. All velocities are zero\n",
    " 4. $F = (m_c + 2m_r)g$\n",
    " 5. $\\tau = 0$\n",
    "\n",
    " Below we define our equilibrium points $x_e = [z_e, h_e, \\theta_e, \\dot{z}_e, \\dot{h}_e, \\dot{\\theta}_e]$ and $u_e = [F_e, \\tau_e]$."
   ]
  },
  {
   "cell_type": "code",
   "execution_count": null,
   "metadata": {},
   "outputs": [],
   "source": [
    "# %%\n",
    "\n",
    "z_e, h_e = symbols('z_e h_e')\n",
    "u_eq = Matrix([(mc + 2*mr)*g, 0])\n",
    "theta_eq = 0\n",
    "z_dot_eq = h_dot_eq = theta_dot_eq = 0"
   ]
  },
  {
   "cell_type": "markdown",
   "metadata": {},
   "source": [
    "# %% [markdown]\n",
    "\n",
    " #### Define A, B Jacobians\n",
    "\n",
    " We can use Sympy's `jacobian` function to find the jacobians of `f(x,u)`.\n",
    "\n",
    " First we find $A = \\frac{\\partial f}{\\partial x}$:"
   ]
  },
  {
   "cell_type": "code",
   "execution_count": null,
   "metadata": {},
   "outputs": [
    {
     "data": {
      "text/latex": [
       "$\\displaystyle \\left[\\begin{matrix}0 & 0 & 0 & 1 & 0 & 0\\\\0 & 0 & 0 & 0 & 1 & 0\\\\0 & 0 & 0 & 0 & 0 & 1\\\\0 & 0 & - \\frac{F \\cos{\\left({x}_{2,0} \\right)}}{m_{c} + 2 m_{r}} & - \\frac{\\mu}{m_{c} + 2 m_{r}} & 0 & 0\\\\0 & 0 & - \\frac{F \\sin{\\left({x}_{2,0} \\right)}}{m_{c} + 2 m_{r}} & 0 & 0 & 0\\\\0 & 0 & 0 & 0 & 0 & 0\\end{matrix}\\right]$"
      ],
      "text/plain": [
       "<IPython.core.display.Math object>"
      ]
     },
     "metadata": {},
     "output_type": "display_data"
    }
   ],
   "source": [
    "# %%\n",
    "\n",
    "A = f_expr.jacobian(state)\n",
    "dotprint(A)"
   ]
  },
  {
   "cell_type": "markdown",
   "metadata": {},
   "source": [
    "# %% [markdown]\n",
    "\n",
    " We can evaluate at our specific $(x_e, u_e)$ point using `subs`."
   ]
  },
  {
   "cell_type": "code",
   "execution_count": null,
   "metadata": {},
   "outputs": [
    {
     "data": {
      "text/latex": [
       "$\\displaystyle \\left[\\begin{matrix}0 & 0 & 0 & 1 & 0 & 0\\\\0 & 0 & 0 & 0 & 1 & 0\\\\0 & 0 & 0 & 0 & 0 & 1\\\\0 & 0 & - g & - \\frac{\\mu}{m_{c} + 2 m_{r}} & 0 & 0\\\\0 & 0 & 0 & 0 & 0 & 0\\\\0 & 0 & 0 & 0 & 0 & 0\\end{matrix}\\right]$"
      ],
      "text/plain": [
       "<IPython.core.display.Math object>"
      ]
     },
     "metadata": {},
     "output_type": "display_data"
    }
   ],
   "source": [
    "# %%\n",
    "\n",
    "A_subs = {\n",
    "    state[0]: z_e,\n",
    "    state[1]: h_e,\n",
    "    state[2]: theta_eq,\n",
    "    state[3]: z_dot_eq,\n",
    "    state[4]: h_dot_eq,\n",
    "    state[5]: theta_dot_eq,\n",
    "    F: u_eq[0],\n",
    "    tau: u_eq[1]\n",
    "}\n",
    "\n",
    "A_eq = A.subs(A_subs)\n",
    "dotprint(A_eq)"
   ]
  },
  {
   "cell_type": "markdown",
   "metadata": {},
   "source": [
    "# %% [markdown]\n",
    "\n",
    " Now we do a similar process to find $B = \\frac{\\partial f}{\\partial u}$"
   ]
  },
  {
   "cell_type": "code",
   "execution_count": null,
   "metadata": {},
   "outputs": [
    {
     "data": {
      "text/latex": [
       "$\\displaystyle \\left[\\begin{matrix}0 & 0\\\\0 & 0\\\\0 & 0\\\\- \\frac{\\sin{\\left({x}_{2,0} \\right)}}{m_{c} + 2 m_{r}} & 0\\\\\\frac{\\cos{\\left({x}_{2,0} \\right)}}{m_{c} + 2 m_{r}} & 0\\\\0 & \\frac{1}{J_{c} + 2 d^{2} m_{r}}\\end{matrix}\\right]$"
      ],
      "text/plain": [
       "<IPython.core.display.Math object>"
      ]
     },
     "metadata": {},
     "output_type": "display_data"
    }
   ],
   "source": [
    "# %%\n",
    "\n",
    "B = f_expr.jacobian(Matrix([F, tau]))\n",
    "dotprint(B)"
   ]
  },
  {
   "cell_type": "markdown",
   "metadata": {},
   "source": [
    "# %% [markdown]\n",
    "\n",
    " Like for the $A$ matrix, we need to substitute in our equilibrium values."
   ]
  },
  {
   "cell_type": "code",
   "execution_count": null,
   "metadata": {},
   "outputs": [
    {
     "data": {
      "text/latex": [
       "$\\displaystyle \\left[\\begin{matrix}0 & 0\\\\0 & 0\\\\0 & 0\\\\0 & 0\\\\\\frac{1}{m_{c} + 2 m_{r}} & 0\\\\0 & \\frac{1}{J_{c} + 2 d^{2} m_{r}}\\end{matrix}\\right]$"
      ],
      "text/plain": [
       "<IPython.core.display.Math object>"
      ]
     },
     "metadata": {},
     "output_type": "display_data"
    }
   ],
   "source": [
    "# %%\n",
    "\n",
    "B_subs = {\n",
    "    state[0]: z_e,\n",
    "    state[1]: h_e,\n",
    "    state[2]: theta_eq,\n",
    "    state[3]: z_dot_eq,\n",
    "    state[4]: h_dot_eq,\n",
    "    state[5]: theta_dot_eq,\n",
    "    F: u_eq[0],\n",
    "    tau: u_eq[1]\n",
    "}\n",
    "\n",
    "B_eq = B.subs(B_subs)\n",
    "dotprint(B_eq)"
   ]
  },
  {
   "cell_type": "markdown",
   "metadata": {},
   "source": [
    "# %% [markdown]\n",
    "\n",
    " ### Decoupled Dynamics\n",
    "\n",
    " We can separate the longitudinal and lateral dynamics:"
   ]
  },
  {
   "cell_type": "code",
   "execution_count": null,
   "metadata": {},
   "outputs": [
    {
     "name": "stdout",
     "output_type": "stream",
     "text": [
      "Linearized A matrix for longitudinal dynamics:\n"
     ]
    },
    {
     "data": {
      "text/latex": [
       "$\\displaystyle \\left[\\begin{matrix}0 & 1\\\\0 & 0\\end{matrix}\\right]$"
      ],
      "text/plain": [
       "<IPython.core.display.Math object>"
      ]
     },
     "metadata": {},
     "output_type": "display_data"
    },
    {
     "name": "stdout",
     "output_type": "stream",
     "text": [
      "Linearized B matrix for longitudinal dynamics:\n"
     ]
    },
    {
     "data": {
      "text/latex": [
       "$\\displaystyle \\left[\\begin{matrix}0\\\\\\frac{1}{m_{c} + 2 m_{r}}\\end{matrix}\\right]$"
      ],
      "text/plain": [
       "<IPython.core.display.Math object>"
      ]
     },
     "metadata": {},
     "output_type": "display_data"
    },
    {
     "name": "stdout",
     "output_type": "stream",
     "text": [
      "Linearized A matrix for lateral dynamics:\n"
     ]
    },
    {
     "data": {
      "text/latex": [
       "$\\displaystyle \\left[\\begin{matrix}0 & 0 & 1 & 0\\\\0 & 0 & 0 & 1\\\\0 & - g & - \\frac{\\mu}{m_{c} + 2 m_{r}} & 0\\\\0 & 0 & 0 & 0\\end{matrix}\\right]$"
      ],
      "text/plain": [
       "<IPython.core.display.Math object>"
      ]
     },
     "metadata": {},
     "output_type": "display_data"
    },
    {
     "name": "stdout",
     "output_type": "stream",
     "text": [
      "Linearized B matrix for lateral dynamics:\n"
     ]
    },
    {
     "data": {
      "text/latex": [
       "$\\displaystyle \\left[\\begin{matrix}0\\\\0\\\\0\\\\\\frac{1}{J_{c} + 2 d^{2} m_{r}}\\end{matrix}\\right]$"
      ],
      "text/plain": [
       "<IPython.core.display.Math object>"
      ]
     },
     "metadata": {},
     "output_type": "display_data"
    }
   ],
   "source": [
    "# %%\n",
    "\n",
    "A_lin_lon = A_eq[[1, 4], [1, 4]]\n",
    "B_lin_lon = B_eq[[1, 4], [0]]\n",
    "\n",
    "print(\"Linearized A matrix for longitudinal dynamics:\")\n",
    "dotprint(A_lin_lon)\n",
    "\n",
    "print(\"Linearized B matrix for longitudinal dynamics:\")\n",
    "dotprint(B_lin_lon)\n",
    "\n",
    "A_lin_lat = A_eq[[0, 2, 3, 5], [0, 2, 3, 5]]\n",
    "B_lin_lat = B_eq[[0, 2, 3, 5], [1]]\n",
    "\n",
    "print(\"Linearized A matrix for lateral dynamics:\")\n",
    "dotprint(A_lin_lat)\n",
    "\n",
    "print(\"Linearized B matrix for lateral dynamics:\")\n",
    "dotprint(B_lin_lat)"
   ]
  },
  {
   "cell_type": "markdown",
   "metadata": {},
   "source": [
    "# %% [markdown]\n",
    "\n",
    " ### Final Equations\n",
    "\n",
    " To obtain our final equations of motion, we define new variables measuring our offset from the equilibrium:\n",
    "\n",
    " $$\n",
    " \\begin{align*}\n",
    " \\tilde{x} &= x - x_e \\\\\n",
    " \\tilde{u} &= u - u_e\n",
    " \\end{align*}\n",
    " $$\n",
    "\n",
    " Our final equations of motion are:\n",
    "\n",
    " $$\n",
    " \\dot{\\tilde{x}} = A\\tilde{x} + B\\tilde{u}\n",
    " $$\n",
    "\n",
    " Where $A$ and $B$ are the linearized matrices we derived above, and the system is decoupled into longitudinal and lateral dynamics."
   ]
  }
 ],
 "metadata": {
  "kernelspec": {
   "display_name": "Python 3 (ipykernel)",
   "language": "python",
   "name": "python3"
  },
  "language_info": {
   "codemirror_mode": {
    "name": "ipython",
    "version": 3
   },
   "file_extension": ".py",
   "mimetype": "text/x-python",
   "name": "python",
   "nbconvert_exporter": "python",
   "pygments_lexer": "ipython3",
   "version": "3.11.9"
  }
 },
 "nbformat": 4,
 "nbformat_minor": 4
}
